{
 "cells": [
  {
   "cell_type": "markdown",
   "metadata": {},
   "source": [
    "# Photometric Stereo Exercise\n",
    "\n",
    "Note: Please make sure to run the script ```get_data.sh``` in the folder data first, to download the necessary dataset for this exercise! Otherwise it will not work.\n",
    "\n",
    "## Preliminaries\n",
    "In this exercise, you will perform photometic stereo reconstruction. You are given a number of images that have been taken from an identical camera position, but with a different light position for each image.\n",
    "Using the methods you have learned in the lecture you will recover the normal and albedo information. \n",
    "\n",
    "But first, the necessary imports:"
   ]
  },
  {
   "cell_type": "code",
   "execution_count": null,
   "metadata": {},
   "outputs": [],
   "source": [
    "from pathlib import Path\n",
    "import inspect\n",
    "from PIL import Image\n",
    "import numpy as np\n",
    "\n",
    "from matplotlib import pyplot as plt\n",
    "\n",
    "# find the data directory by looking at this files position on your system\n",
    "DATA_DIR = Path(inspect.getfile(lambda: None)).parent.joinpath(\"data\", \"psmImages\")\n",
    "\n",
    "assert (\n",
    "    DATA_DIR.exists()\n",
    "), \"input data does not exist - please mak e sure to run ./get_data.sh in data folder\"\n"
   ]
  },
  {
   "cell_type": "markdown",
   "metadata": {},
   "source": [
    "First of all, we need a function to load the images, masks and light directions. \n",
    "Normally, the surface light directions would need to be recovered from the images in the chrome folder, where a chrome ball has been photographed for the different light directions. This would enable you to recover the specular highlights using thresholding and to recover the light directions from that.\n",
    "To keep this exercise short and to focus on the actual photometric stereo reconstruction, we provide the light directions directly:"
   ]
  },
  {
   "cell_type": "code",
   "execution_count": null,
   "metadata": {},
   "outputs": [],
   "source": [
    "def load_imgs_masks_light_dirs(object_name=\"cat\"):\n",
    "    \"\"\"\n",
    "    returns:\n",
    "    imgs np.array [k,h,w] np.float32 [0.0, 1.0]\n",
    "    mask np.array [h,w] np.bool\n",
    "    light_dirs np.array [k,3] np.float32\n",
    "    k: number of images\n",
    "    h: image height (num rows)\n",
    "    w: image width (num cols)\n",
    "    \"\"\"\n",
    "    available_objs = [\n",
    "        x.stem for x in DATA_DIR.iterdir() if x.is_dir() and \"chrome\" not in str(x)\n",
    "    ]\n",
    "\n",
    "    assert (\n",
    "        object_name in available_objs\n",
    "    ), \"unknown obj {0} - please select one of {1}\".format(object_name, available_objs)\n",
    "\n",
    "    obj_dir = DATA_DIR.joinpath(object_name)\n",
    "\n",
    "    mask = (\n",
    "        np.array(\n",
    "            Image.open(\n",
    "                obj_dir.joinpath(\"{}.{}.png\".format(object_name, \"mask\"))\n",
    "            ).convert(\"L\")\n",
    "        )\n",
    "        > 0\n",
    "    )\n",
    "\n",
    "    imgs = []\n",
    "    for im_path in sorted(list(obj_dir.glob(\"*.png\"))):\n",
    "        if \"mask\" in str(im_path):\n",
    "            # we already got that one\n",
    "            continue\n",
    "        else:\n",
    "            img = Image.open(im_path).convert(\"L\")\n",
    "            imgs.append(np.array(img))\n",
    "\n",
    "    imgs = np.stack(imgs, axis=0).astype(np.float64) / 256.0\n",
    "\n",
    "    # normally these would have to be recovered from the chrome ball\n",
    "    # we hard-code them here to save time\n",
    "    light_dirs = np.array(\n",
    "        [\n",
    "            [0.49816584, 0.46601385, 0.73120577],\n",
    "            [0.24236702, 0.13237001, 0.96111207],\n",
    "            [-0.03814999, 0.17201198, 0.98435586],\n",
    "            [-0.09196399, 0.44121093, 0.89267886],\n",
    "            [-0.31899811, 0.50078717, 0.80464428],\n",
    "            [-0.10791803, 0.55920516, 0.82197524],\n",
    "            [0.27970709, 0.42031713, 0.86319028],\n",
    "            [0.09845196, 0.42847982, 0.89817162],\n",
    "            [0.20550002, 0.33250804, 0.9204391],\n",
    "            [0.08520805, 0.33078218, 0.93985251],\n",
    "            [0.12815201, 0.043478, 0.99080105],\n",
    "            [-0.13871804, 0.35998611, 0.92258729],\n",
    "        ]\n",
    "    )\n",
    "\n",
    "    return imgs, mask, light_dirs\n",
    "    "
   ]
  },
  {
   "cell_type": "markdown",
   "metadata": {},
   "source": [
    "Now we can have a look at one of the images and the mask:"
   ]
  },
  {
   "cell_type": "code",
   "execution_count": null,
   "metadata": {},
   "outputs": [],
   "source": [
    "imgs, mask, light_dirs = load_imgs_masks_light_dirs(\"cat\")\n",
    "plt.figure()\n",
    "plt.imshow(imgs[0], cmap=plt.cm.gray)\n",
    "plt.show()\n",
    "\n",
    "plt.figure()\n",
    "plt.imshow(mask, cmap=plt.cm.gray)\n",
    "plt.show()"
   ]
  },
  {
   "cell_type": "markdown",
   "metadata": {},
   "source": [
    "In the lecture, you have learned how to perform photometric stereo reconstruction.\n",
    "Now, fill in the gaps of the ```compute_normals_albedo``` function! "
   ]
  },
  {
   "cell_type": "code",
   "execution_count": null,
   "metadata": {},
   "outputs": [],
   "source": [
    "def compute_normals_albedo_map(imgs, mask, light_dirs):\n",
    "    \"\"\"\n",
    "    imgs np.array [k,h,w] np.float32 [0.0, 1.0]\n",
    "    mask np.array [h,w] np.bool\n",
    "    light_positions np.array [k,3] np.float32\n",
    "    ---\n",
    "    dims:\n",
    "    k: number of images\n",
    "    h: image height (num rows)\n",
    "    w: image width (num cols)\n",
    "    \"\"\"\n",
    "    # BEGIN REGION SOLUTION\n",
    "   \n",
    "    # END REGION SOLUTION\n",
    "\n",
    "    assert normals_unit.shape == (imgs.shape[1], imgs.shape[2], 3)\n",
    "    assert rho.shape == (imgs.shape[1], imgs.shape[2])\n",
    "\n",
    "    rho = np.clip(rho,0.0,1.0)\n",
    "    normals_unit = np.clip(normals_unit, 0.0, 1.0)\n",
    "\n",
    "    return normals_unit, rho, mask"
   ]
  },
  {
   "cell_type": "markdown",
   "metadata": {},
   "source": [
    "Good, now let's have a look at the result!"
   ]
  },
  {
   "cell_type": "code",
   "execution_count": null,
   "metadata": {},
   "outputs": [],
   "source": [
    "normals_unit, rho, mask = compute_normals_albedo_map(imgs, mask, light_dirs)\n",
    "\n",
    "plt.figure()\n",
    "plt.imshow(rho, cmap=plt.cm.gray)\n",
    "plt.title(\"Albedo\")\n",
    "plt.show()\n",
    "\n",
    "plt.figure()\n",
    "plt.imshow(normals_unit)\n",
    "plt.title(\"Normals\")\n",
    "plt.show()\n"
   ]
  },
  {
   "cell_type": "markdown",
   "metadata": {},
   "source": [
    "We now know the pixel-wise normal and albedo for the whole image! This enables us to relight the scene (i.e. to artificially change the light direction) and observe the result.\n",
    "Please fill in the missing pieces in ```relight_scene```\n",
    "```albedo``` could be a grid of albedos for each pixel in the scene, or a single albedo for the whole image."
   ]
  },
  {
   "cell_type": "code",
   "execution_count": null,
   "metadata": {},
   "outputs": [],
   "source": [
    "def relight_scene(light_dir, normals_unit, albedo, mask):\n",
    "    \"\"\"\n",
    "    light_pos np.array [k,3] np.float32\n",
    "    mask np.array [h,w] np.bool\n",
    "    ----\n",
    "    dims:\n",
    "    h: image height (num rows)\n",
    "    w: image width (num cols)\n",
    "    ----\n",
    "    returns:\n",
    "        imgs np.array [h,w] np.float32 [0.0, 1.0]\n",
    "    \"\"\"\n",
    "    assert light_dir.shape == (3,)\n",
    "    assert np.allclose(1.0, np.linalg.norm(light_dir))\n",
    "    assert normals_unit.shape[-1] == 3\n",
    "    assert len(normals_unit.shape) == 3\n",
    "\n",
    "    # BEGIN REGION SOLUTION\n",
    "   \n",
    "\n",
    "    # END REGION SOLUTION\n",
    "    assert np.all(\n",
    "        np.logical_and(0.0 <= img_norm, img_norm <= 1.0)\n",
    "    ), \"please normalize your image to interval [0.0,1.0]\"\n",
    "    return img_norm\n"
   ]
  },
  {
   "cell_type": "markdown",
   "metadata": {},
   "source": [
    "Now, let's change the light position a bit! You can also play with the albedo:\n",
    "Here we move the light along the x Axis a bit.\n"
   ]
  },
  {
   "cell_type": "code",
   "execution_count": null,
   "metadata": {},
   "outputs": [],
   "source": [
    "light = np.array([0.5, 0.5, 0.7])\n",
    "new_albedo = 0.5\n",
    "for x in np.linspace(-2, 2, 5):\n",
    "    light[0] = x\n",
    "    light_dir = np.array(light / np.linalg.norm(light))\n",
    "\n",
    "    new_img = relight_scene(light_dir, normals_unit, new_albedo, mask)\n",
    "\n",
    "    plt.figure()\n",
    "    plt.imshow(new_img, cmap=plt.cm.gray)\n",
    "    plt.title(\n",
    "        \"Relit image \\nNew light direction @ {0}\\nAlbedo is now {1}\".format(light_dir, new_albedo)\n",
    "        )\n",
    "    plt.show()"
   ]
  },
  {
   "cell_type": "markdown",
   "metadata": {},
   "source": [
    "Congratulations, you have successfully completed the photometric stereo exercise. Maybe you want to play around and try implementing a function that can produce RGB images using a per-color-channel albedo map? :)"
   ]
  }
 ],
 "metadata": {
  "interpreter": {
   "hash": "5a914f8cf5070c684d4aae9b139d144932712c601f758445486ed49f59cbc926"
  },
  "kernelspec": {
   "display_name": "Python 3",
   "language": "python",
   "name": "python3"
  },
  "language_info": {
   "codemirror_mode": {
    "name": "ipython",
    "version": 3
   },
   "file_extension": ".py",
   "mimetype": "text/x-python",
   "name": "python",
   "nbconvert_exporter": "python",
   "pygments_lexer": "ipython3",
   "version": "3.8.10"
  }
 },
 "nbformat": 4,
 "nbformat_minor": 2
}
